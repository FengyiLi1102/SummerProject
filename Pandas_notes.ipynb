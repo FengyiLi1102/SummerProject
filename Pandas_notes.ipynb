{
 "cells": [
  {
   "cell_type": "markdown",
   "metadata": {},
   "source": [
    "# Pandas notes"
   ]
  },
  {
   "cell_type": "markdown",
   "metadata": {},
   "source": [
    "Firstly, import the pandas library."
   ]
  },
  {
   "cell_type": "code",
   "execution_count": null,
   "metadata": {},
   "outputs": [],
   "source": [
    "import pandas as pd"
   ]
  },
  {
   "cell_type": "markdown",
   "metadata": {},
   "source": [
    "Read a csv format table"
   ]
  },
  {
   "cell_type": "code",
   "execution_count": null,
   "metadata": {},
   "outputs": [],
   "source": [
    "file_path = r'address'\n",
    "dataframe = pd.read_csv(file_path, index_col=num)"
   ]
  },
  {
   "cell_type": "markdown",
   "metadata": {},
   "source": [
    "Create a dataframe."
   ]
  },
  {
   "cell_type": "code",
   "execution_count": null,
   "metadata": {},
   "outputs": [],
   "source": [
    "dataframe_made = pd.DataFrame({'col_0' : [1, 'sth'],\n",
    "                               'col_1' : [2, 'sth']},\n",
    "                             index=['numbers', 'objects'])"
   ]
  },
  {
   "cell_type": "markdown",
   "metadata": {},
   "source": [
    "Create a Series"
   ]
  },
  {
   "cell_type": "code",
   "execution_count": null,
   "metadata": {},
   "outputs": [],
   "source": [
    "series_made = pd.Series(['sth', 1], index=['objects', 'numbers'], name='Series')"
   ]
  },
  {
   "cell_type": "markdown",
   "metadata": {},
   "source": [
    "Read an xls or xlsx."
   ]
  },
  {
   "cell_type": "code",
   "execution_count": null,
   "metadata": {},
   "outputs": [],
   "source": [
    "xls_dataframe = pd.read_excel(file_path, sheet_name='name', index_col=num)"
   ]
  },
  {
   "cell_type": "markdown",
   "metadata": {},
   "source": [
    "Process for values in the dataframe"
   ]
  },
  {
   "cell_type": "markdown",
   "metadata": {},
   "source": [
    "1) return a row in the dataframe"
   ]
  },
  {
   "cell_type": "code",
   "execution_count": null,
   "metadata": {},
   "outputs": [],
   "source": [
    "df.loc['numbers']\n",
    "df.iloc[0]"
   ]
  },
  {
   "cell_type": "markdown",
   "metadata": {},
   "source": [
    "return multi-row in the dataframe"
   ]
  },
  {
   "cell_type": "code",
   "execution_count": null,
   "metadata": {},
   "outputs": [],
   "source": [
    "df[0:2]                              # cut the tail\n",
    "df.loc[[0, 1]]                       # same\n",
    "df.loc[0:1]                          # same\n",
    "df.loc[0:1, ['col_0', 'col_1']]      # same (keep the tail)\n",
    "df.iloc[0:2]                         # same (cut the tail)\n",
    "df.iloc[[0, 1]]                      # same"
   ]
  },
  {
   "cell_type": "markdown",
   "metadata": {},
   "source": [
    "2) return a value"
   ]
  },
  {
   "cell_type": "code",
   "execution_count": null,
   "metadata": {},
   "outputs": [],
   "source": [
    "df.loc[0, 'col_1']                   # return a value\n",
    "df.col_1.loc[0]                      # same as above\n",
    "df.col_1[0]                          # same as above"
   ]
  },
  {
   "cell_type": "markdown",
   "metadata": {},
   "source": [
    "3) return a specific dataframe"
   ]
  },
  {
   "cell_type": "code",
   "execution_count": null,
   "metadata": {},
   "outputs": [],
   "source": [
    "df.iloc[0:1, 0:1]                    # cut the tail"
   ]
  },
  {
   "cell_type": "markdown",
   "metadata": {},
   "source": [
    "4) return a Series"
   ]
  },
  {
   "cell_type": "code",
   "execution_count": null,
   "metadata": {},
   "outputs": [],
   "source": [
    "df.col_1.loc[0:1]                    # keep the tail\n",
    "df.col_1.iloc[0:2]                   # same"
   ]
  },
  {
   "cell_type": "markdown",
   "metadata": {},
   "source": [
    "Process of values in the Series"
   ]
  },
  {
   "cell_type": "code",
   "execution_count": null,
   "metadata": {},
   "outputs": [],
   "source": [
    "s[0:2]                               # series itself (cut the tail)\n",
    "s[0]                                 # return a related value\n",
    "s[0:2].index                         # return the index of rows"
   ]
  },
  {
   "cell_type": "markdown",
   "metadata": {},
   "source": [
    "Create new dataframe from the old one"
   ]
  },
  {
   "cell_type": "code",
   "execution_count": null,
   "metadata": {},
   "outputs": [],
   "source": [
    "n_df = df.loc[[0, 1, 2], ['col_1', 'col_2']]\n",
    "n_df = df.iloc[[0,1, 2], [0, 1]]"
   ]
  },
  {
   "cell_type": "markdown",
   "metadata": {},
   "source": [
    "Process values in the dataframe with booolean statement"
   ]
  },
  {
   "cell_type": "code",
   "execution_count": null,
   "metadata": {},
   "outputs": [],
   "source": [
    "n_df = df[conditions]                # return a new dataframe\n",
    "n_df = df.column.condition           # return value/dataframe/..."
   ]
  },
  {
   "cell_type": "markdown",
   "metadata": {},
   "source": [
    "Summary functions for dataframe"
   ]
  },
  {
   "cell_type": "code",
   "execution_count": null,
   "metadata": {},
   "outputs": [],
   "source": [
    "df.describe()                        # return max, min, 25%, 50%, 75%, mean\n",
    "df.column.describe()\n",
    "df.column.mean()\n",
    "df.column.unique()                   # return an arrgy with unique elements\n",
    "df.column.value_counts()"
   ]
  },
  {
   "cell_type": "markdown",
   "metadata": {},
   "source": [
    "map function"
   ]
  },
  {
   "cell_type": "code",
   "execution_count": null,
   "metadata": {},
   "outputs": [],
   "source": [
    "mean = 10\n",
    "df.col_1.map(lambda p: p - mean)     # return a Series\n",
    "df.col_1 - mean                      # same as above"
   ]
  },
  {
   "cell_type": "markdown",
   "metadata": {},
   "source": [
    "apply function"
   ]
  },
  {
   "cell_type": "code",
   "execution_count": null,
   "metadata": {},
   "outputs": [],
   "source": [
    "def mean(row):\n",
    "    row = row - mean\n",
    "    return row\n",
    "df.apply(mean, axis=1)               # from top to bottom\n",
    "\n",
    "def mean(col):\n",
    "    col = col - mean\n",
    "    return col\n",
    "df.apply(mean, axis=0)               # same as above (from left to right)\n",
    "\n",
    "df - mean                            # same as above (simplified)"
   ]
  },
  {
   "cell_type": "markdown",
   "metadata": {},
   "source": []
  }
 ],
 "metadata": {
  "kernelspec": {
   "display_name": "Python 3",
   "language": "python",
   "name": "python3"
  },
  "language_info": {
   "codemirror_mode": {
    "name": "ipython",
    "version": 3
   },
   "file_extension": ".py",
   "mimetype": "text/x-python",
   "name": "python",
   "nbconvert_exporter": "python",
   "pygments_lexer": "ipython3",
   "version": "3.7.0"
  }
 },
 "nbformat": 4,
 "nbformat_minor": 2
}
